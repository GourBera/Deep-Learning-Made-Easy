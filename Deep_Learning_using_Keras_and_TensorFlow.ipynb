{
  "nbformat": 4,
  "nbformat_minor": 0,
  "metadata": {
    "colab": {
      "name": "Deep Learning using Keras and TensorFlow.ipynb",
      "version": "0.3.2",
      "provenance": [],
      "collapsed_sections": []
    },
    "kernelspec": {
      "name": "python3",
      "display_name": "Python 3"
    }
  },
  "cells": [
    {
      "metadata": {
        "id": "egRaaUATxdB6",
        "colab_type": "code",
        "colab": {}
      },
      "cell_type": "code",
      "source": [
        "### Problem set 1: (MNist) Hand Written Digits Prediction using Keras, Tensorflow backend"
      ],
      "execution_count": 0,
      "outputs": []
    },
    {
      "metadata": {
        "id": "2fxhACZOttWM",
        "colab_type": "code",
        "colab": {}
      },
      "cell_type": "code",
      "source": [
        "import tensorflow as tf\n",
        "\n",
        "# Loadning MNest Data Set\n",
        "mnist = tf.keras.datasets.mnist\n",
        "\n",
        "(x_train, y_train), (x_test,y_test) = mnist.load_data()\n"
      ],
      "execution_count": 0,
      "outputs": []
    },
    {
      "metadata": {
        "id": "mTwLf3oAuLbI",
        "colab_type": "code",
        "colab": {
          "base_uri": "https://localhost:8080/",
          "height": 347
        },
        "outputId": "f21387bc-cf16-49b8-af7a-5725c2eee63a"
      },
      "cell_type": "code",
      "source": [
        "import matplotlib.pyplot as plt\n",
        "\n",
        "# Ploting single sample data using Matplotlib\n",
        "plt.imshow(x_train[7], cmap=plt.cm.binary)\n",
        "plt.show()\n"
      ],
      "execution_count": 43,
      "outputs": [
        {
          "output_type": "display_data",
          "data": {
            "image/png": "[encoded data removed]",
            "text/plain": [
              "<matplotlib.figure.Figure at 0x7f6a33567a58>"
            ]
          },
          "metadata": {
            "tags": []
          }
        }
      ]
    },
    {
      "metadata": {
        "id": "QkpuKF37uLxM",
        "colab_type": "code",
        "colab": {
          "base_uri": "https://localhost:8080/",
          "height": 204
        },
        "outputId": "4a287560-aff9-48f2-d47a-bf7f0560cf80"
      },
      "cell_type": "code",
      "source": [
        "# Normalizing Data using Keras Utils package\n",
        "x_train = tf.keras.utils.normalize(x_train, axis=1)\n",
        "x_test = tf.keras.utils.normalize(x_test, axis=1)\n",
        "\n",
        "\n",
        "# Buildings Sequential Keras Model\n",
        "model = tf.keras.models.Sequential()\n",
        "\n",
        "\n",
        "# Adding Layers to Keras Model\n",
        "model.add(tf.keras.layers.Flatten())\n",
        "model.add(tf.keras.layers.Dense(128, activation=tf.nn.relu))\n",
        "model.add(tf.keras.layers.Dense(128, activation=tf.nn.relu))\n",
        "model.add(tf.keras.layers.Dense(10, activation=tf.nn.softmax))\n",
        "\n",
        "# Compile Fit Keras Model\n",
        "model.compile(optimizer='adam', loss='sparse_categorical_crossentropy', metrics=['accuracy'])\n",
        "model.fit(x_train, y_train, epochs=5)\n"
      ],
      "execution_count": 44,
      "outputs": [
        {
          "output_type": "stream",
          "text": [
            "Epoch 1/5\n",
            "60000/60000 [==============================] - 8s 134us/step - loss: 0.2623 - acc: 0.9229\n",
            "Epoch 2/5\n",
            "60000/60000 [==============================] - 8s 125us/step - loss: 0.1058 - acc: 0.9677\n",
            "Epoch 3/5\n",
            "60000/60000 [==============================] - 8s 140us/step - loss: 0.0732 - acc: 0.9765\n",
            "Epoch 4/5\n",
            "60000/60000 [==============================] - 8s 129us/step - loss: 0.0541 - acc: 0.9823\n",
            "Epoch 5/5\n",
            "60000/60000 [==============================] - 7s 115us/step - loss: 0.0407 - acc: 0.9869\n"
          ],
          "name": "stdout"
        },
        {
          "output_type": "execute_result",
          "data": {
            "text/plain": [
              "<tensorflow.python.keras.callbacks.History at 0x7f6a2bed7940>"
            ]
          },
          "metadata": {
            "tags": []
          },
          "execution_count": 44
        }
      ]
    },
    {
      "metadata": {
        "id": "M6Til_FYuL5A",
        "colab_type": "code",
        "colab": {
          "base_uri": "https://localhost:8080/",
          "height": 68
        },
        "outputId": "10e5e174-1512-4351-9583-a47b70126614"
      },
      "cell_type": "code",
      "source": [
        "# Evaluating the Model\n",
        "loss, accuracy = model.evaluate(x_test, y_test)\n",
        "\n",
        "print(\"loss: \", loss)\n",
        "print(\"Accuracy: \", accuracy)\n"
      ],
      "execution_count": 45,
      "outputs": [
        {
          "output_type": "stream",
          "text": [
            "10000/10000 [==============================] - 0s 46us/step\n",
            "loss:  0.09988657948668114\n",
            "Accuracy:  0.971\n"
          ],
          "name": "stdout"
        }
      ]
    },
    {
      "metadata": {
        "id": "h1zqRBXXuMEN",
        "colab_type": "code",
        "colab": {
          "base_uri": "https://localhost:8080/",
          "height": 238
        },
        "outputId": "b3ecd476-e950-4714-964b-0dab23edd4b8"
      },
      "cell_type": "code",
      "source": [
        "# Hand Written Degit Prediction\n",
        "pred = model.predict([x_test])\n",
        "pred\n"
      ],
      "execution_count": 46,
      "outputs": [
        {
          "output_type": "execute_result",
          "data": {
            "text/plain": [
              "array([[1.7617326e-10, 2.2635251e-10, 5.0792583e-08, ..., 9.9999952e-01,\n",
              "        8.5066634e-11, 7.7085529e-09],\n",
              "       [2.1677889e-11, 6.4156097e-06, 9.9999344e-01, ..., 2.3927573e-09,\n",
              "        2.6936022e-09, 2.7899645e-15],\n",
              "       [6.0202851e-08, 9.9996114e-01, 5.5905866e-07, ..., 2.4673989e-05,\n",
              "        7.0243113e-06, 6.2553553e-08],\n",
              "       ...,\n",
              "       [1.4045161e-11, 4.0435160e-07, 5.4108706e-10, ..., 2.1051646e-06,\n",
              "        1.9114812e-07, 1.6296472e-06],\n",
              "       [4.4837549e-07, 1.6243723e-08, 5.0592965e-09, ..., 6.1220641e-07,\n",
              "        2.3726744e-03, 1.9653573e-10],\n",
              "       [4.2389758e-11, 6.9189383e-11, 8.4826139e-11, ..., 7.3469524e-13,\n",
              "        1.7764762e-11, 8.9185102e-14]], dtype=float32)"
            ]
          },
          "metadata": {
            "tags": []
          },
          "execution_count": 46
        }
      ]
    },
    {
      "metadata": {
        "id": "dJONShx3uMK0",
        "colab_type": "code",
        "colab": {
          "base_uri": "https://localhost:8080/",
          "height": 34
        },
        "outputId": "65c34b58-f206-4eb0-e560-0706d8600611"
      },
      "cell_type": "code",
      "source": [
        "# Printing Prediction using Numpy\n",
        "import numpy as np\n",
        "\n",
        "print(np.argmax(pred[20]))\n"
      ],
      "execution_count": 47,
      "outputs": [
        {
          "output_type": "stream",
          "text": [
            "9\n"
          ],
          "name": "stdout"
        }
      ]
    },
    {
      "metadata": {
        "id": "GX9FhqiquMOs",
        "colab_type": "code",
        "colab": {
          "base_uri": "https://localhost:8080/",
          "height": 347
        },
        "outputId": "dd6c2a50-5693-4a52-c82f-0430c4b25227"
      },
      "cell_type": "code",
      "source": [
        "# Viewing the image\n",
        "plt.imshow(x_test[20])\n",
        "plt.show()\n"
      ],
      "execution_count": 48,
      "outputs": [
        {
          "output_type": "display_data",
          "data": {
            "image/png": "[encoded data removed]",
            "text/plain": [
              "<matplotlib.figure.Figure at 0x7f6a2ecbd0f0>"
            ]
          },
          "metadata": {
            "tags": []
          }
        }
      ]
    },
    {
      "metadata": {
        "id": "TMnUtjJiuL_b",
        "colab_type": "code",
        "colab": {}
      },
      "cell_type": "code",
      "source": [
        "### Saving the Model\n",
        "#from tensorflow.python.keras.models import save_model\n",
        "\n",
        "#model.save('Deploy_model.model')\n",
        "\n",
        "#new_model = tf.keras.models.load_model('Deploy_model.model')\n"
      ],
      "execution_count": 0,
      "outputs": []
    },
    {
      "metadata": {
        "id": "3lejA_hF0Ckh",
        "colab_type": "code",
        "colab": {}
      },
      "cell_type": "code",
      "source": [
        ""
      ],
      "execution_count": 0,
      "outputs": []
    },
    {
      "metadata": {
        "id": "rJLEMEVU0C34",
        "colab_type": "code",
        "colab": {}
      },
      "cell_type": "code",
      "source": [
        "### Problem set 2: Sentiment Analysis of (imdb) Movie Reviews using Deep Learning"
      ],
      "execution_count": 0,
      "outputs": []
    },
    {
      "metadata": {
        "id": "n0RlCN9q0DEJ",
        "colab_type": "code",
        "colab": {}
      },
      "cell_type": "code",
      "source": [
        ""
      ],
      "execution_count": 0,
      "outputs": []
    },
    {
      "metadata": {
        "id": "5Ja8Rl2buMIL",
        "colab_type": "code",
        "colab": {}
      },
      "cell_type": "code",
      "source": [
        "from keras.datasets import imdb\n",
        "\n",
        "\n",
        "# Importing the Data Set\n",
        "(X_train, y_train), (X_test, y_test) = imdb.load_data()\n",
        "\n",
        "X = np.concatenate((X_train, X_test), axis=0)\n",
        "y = np.concatenate((y_train, y_test), axis=0)"
      ],
      "execution_count": 0,
      "outputs": []
    },
    {
      "metadata": {
        "id": "gnExqnA_1kU4",
        "colab_type": "code",
        "colab": {
          "base_uri": "https://localhost:8080/",
          "height": 51
        },
        "outputId": "fa86a3c3-d846-4bfa-b7f5-92fba090afae"
      },
      "cell_type": "code",
      "source": [
        "# Binary classification problem\n",
        "print(np.unique(y))\n",
        "\n",
        "# Summarize number of words\n",
        "print(\"Number of words: \", len(np.unique(np.hstack(X))))\n"
      ],
      "execution_count": 51,
      "outputs": [
        {
          "output_type": "stream",
          "text": [
            "[0 1]\n",
            "Number of words:  88585\n"
          ],
          "name": "stdout"
        }
      ]
    },
    {
      "metadata": {
        "id": "PdB4V2Wm2TW7",
        "colab_type": "code",
        "colab": {
          "base_uri": "https://localhost:8080/",
          "height": 381
        },
        "outputId": "084ba421-acd2-45ff-866d-588967cbd932"
      },
      "cell_type": "code",
      "source": [
        "# Summarize review length\n",
        "print(\"Review length: \")\n",
        "result = [len(x) for x in X]\n",
        "\n",
        "print(\"Mean %.2f words (%f)\" % (np.mean(result), np.std(result)))\n",
        "\n",
        "# plot review length\n",
        "plt.boxplot(result)\n",
        "plt.show()\n",
        "\n",
        "#Average review is less then 300 words and standard deviation is greter than 200 words"
      ],
      "execution_count": 52,
      "outputs": [
        {
          "output_type": "stream",
          "text": [
            "Review length: \n",
            "Mean 234.76 words (172.911495)\n"
          ],
          "name": "stdout"
        },
        {
          "output_type": "display_data",
          "data": {
            "image/png": "[encoded data removed]",
            "text/plain": [
              "<matplotlib.figure.Figure at 0x7f6a252d4fd0>"
            ]
          },
          "metadata": {
            "tags": []
          }
        }
      ]
    },
    {
      "metadata": {
        "id": "PIq1DvbD4EJf",
        "colab_type": "code",
        "colab": {}
      },
      "cell_type": "code",
      "source": [
        "### Multi-Layer Perceptron Model for the IMDB Dataset\n"
      ],
      "execution_count": 0,
      "outputs": []
    },
    {
      "metadata": {
        "id": "r1XGQXxI3NZh",
        "colab_type": "code",
        "colab": {}
      },
      "cell_type": "code",
      "source": [
        "from keras.models import Sequential\n",
        "from keras.layers import Dense\n",
        "from keras.layers import Flatten\n",
        "from keras.layers.embeddings import Embedding\n",
        "from keras.preprocessing import sequence\n",
        "\n",
        "# load the dataset but only keep the top n words, zero the rest\n",
        "top_words = 5000\n",
        "(X_train, y_train), (X_test, y_test) = imdb.load_data(num_words=top_words)\n",
        "\n",
        "max_words = 500\n",
        "X_train = sequence.pad_sequences(X_train, maxlen=max_words)\n",
        "X_test = sequence.pad_sequences(X_test, maxlen=max_words)\n"
      ],
      "execution_count": 0,
      "outputs": []
    },
    {
      "metadata": {
        "id": "isF0giGO5Au9",
        "colab_type": "code",
        "colab": {
          "base_uri": "https://localhost:8080/",
          "height": 136
        },
        "outputId": "07f0f268-4259-4264-c604-785c8cd3011d"
      },
      "cell_type": "code",
      "source": [
        "# create the model\n",
        "model = Sequential()\n",
        "\n",
        "model.add(Embedding(top_words, 32, input_length=max_words))\n",
        "model.add(Flatten())\n",
        "model.add(Dense(256, activation='relu'))\n",
        "model.add(Dense(1, activation='sigmoid'))\n",
        "\n",
        "model.compile(loss='binary_crossentropy', optimizer='adam', metrics=['accuracy'])\n",
        "\n",
        "# Fit the model\n",
        "model.fit(X_train, y_train, validation_data=(X_test, y_test), epochs=2, batch_size=128, verbose=2)\n",
        "\n",
        "# Final evaluation of the model\n",
        "loss, accuracy = model.evaluate(X_test, y_test, verbose=0)\n",
        "\n",
        "print(\"Loss: \", loss)\n",
        "print(\"Accuracy: \", accuracy)\n"
      ],
      "execution_count": 54,
      "outputs": [
        {
          "output_type": "stream",
          "text": [
            "Train on 25000 samples, validate on 25000 samples\n",
            "Epoch 1/2\n",
            " - 30s - loss: 0.4941 - acc: 0.7320 - val_loss: 0.3019 - val_acc: 0.8704\n",
            "Epoch 2/2\n",
            " - 29s - loss: 0.1825 - acc: 0.9314 - val_loss: 0.3078 - val_acc: 0.8714\n",
            "Loss:  0.30782136394023896\n",
            "Accuracy:  0.87136\n"
          ],
          "name": "stdout"
        }
      ]
    },
    {
      "metadata": {
        "id": "xVlVot7_tYy0",
        "colab_type": "code",
        "colab": {}
      },
      "cell_type": "code",
      "source": [
        ""
      ],
      "execution_count": 0,
      "outputs": []
    },
    {
      "metadata": {
        "id": "XhfrFbhatY31",
        "colab_type": "code",
        "colab": {}
      },
      "cell_type": "code",
      "source": [
        ""
      ],
      "execution_count": 0,
      "outputs": []
    }
  ]
}