{
  "nbformat": 4,
  "nbformat_minor": 0,
  "metadata": {
    "colab": {
      "name": "Deep Learning using Keras and TensorFlow.ipynb",
      "version": "0.3.2",
      "provenance": [],
      "collapsed_sections": []
    },
    "kernelspec": {
      "name": "python3",
      "display_name": "Python 3"
    }
  },
  "cells": [
    {
      "metadata": {
        "id": "2fxhACZOttWM",
        "colab_type": "code",
        "colab": {}
      },
      "cell_type": "code",
      "source": [
        "import tensorflow as tf\n",
        "import matplotlib.pyplot as plt\n",
        "\n",
        "mnist = tf.keras.datasets.mnist\n",
        "\n",
        "(x_train, y_train), (x_test,y_test) = mnist.load_data()"
      ],
      "execution_count": 0,
      "outputs": []
    },
    {
      "metadata": {
        "id": "mTwLf3oAuLbI",
        "colab_type": "code",
        "colab": {
          "base_uri": "https://localhost:8080/",
          "height": 347
        },
        "outputId": "e2b27c62-c632-4939-ed7d-5df8b07db1bd"
      },
      "cell_type": "code",
      "source": [
        "plt.imshow(x_train[7], cmap=plt.cm.binary)\n",
        "plt.show()"
      ],
      "execution_count": 10,
      "outputs": [
        {
          "output_type": "display_data",
          "data": {
            "image/png": "[encoded data removed]",
            "text/plain": [
              "<matplotlib.figure.Figure at 0x7fd579315400>"
            ]
          },
          "metadata": {
            "tags": []
          }
        }
      ]
    },
    {
      "metadata": {
        "id": "QkpuKF37uLxM",
        "colab_type": "code",
        "colab": {
          "base_uri": "https://localhost:8080/",
          "height": 204
        },
        "outputId": "9ff7c61a-d58b-40e7-9984-fe006db2f7c6"
      },
      "cell_type": "code",
      "source": [
        "x_train = tf.keras.utils.normalize(x_train, axis=1)\n",
        "x_test = tf.keras.utils.normalize(x_test, axis=1)\n",
        "\n",
        "\n",
        "model = tf.keras.models.Sequential()\n",
        "\n",
        "model.add(tf.keras.layers.Flatten())\n",
        "model.add(tf.keras.layers.Dense(128, activation=tf.nn.relu))\n",
        "model.add(tf.keras.layers.Dense(128, activation=tf.nn.relu))\n",
        "model.add(tf.keras.layers.Dense(10, activation=tf.nn.softmax))\n",
        "\n",
        "model.compile(optimizer='adam', loss='sparse_categorical_crossentropy', metrics=['accuracy'])\n",
        "model.fit(x_train, y_train, epochs=5)"
      ],
      "execution_count": 19,
      "outputs": [
        {
          "output_type": "stream",
          "text": [
            "Epoch 1/5\n",
            "60000/60000 [==============================] - 8s 126us/step - loss: 0.2623 - acc: 0.9238\n",
            "Epoch 2/5\n",
            "60000/60000 [==============================] - 7s 119us/step - loss: 0.1064 - acc: 0.9675\n",
            "Epoch 3/5\n",
            "60000/60000 [==============================] - 7s 121us/step - loss: 0.0723 - acc: 0.9774\n",
            "Epoch 4/5\n",
            "60000/60000 [==============================] - 7s 122us/step - loss: 0.0549 - acc: 0.9826\n",
            "Epoch 5/5\n",
            "60000/60000 [==============================] - 7s 122us/step - loss: 0.0415 - acc: 0.9865\n"
          ],
          "name": "stdout"
        },
        {
          "output_type": "execute_result",
          "data": {
            "text/plain": [
              "<tensorflow.python.keras.callbacks.History at 0x7fd575dd8fd0>"
            ]
          },
          "metadata": {
            "tags": []
          },
          "execution_count": 19
        }
      ]
    },
    {
      "metadata": {
        "id": "M6Til_FYuL5A",
        "colab_type": "code",
        "colab": {
          "base_uri": "https://localhost:8080/",
          "height": 68
        },
        "outputId": "0343272a-01a6-4d8e-909f-85f413d4deca"
      },
      "cell_type": "code",
      "source": [
        "val_loss, val_accuracy = model.evaluate(x_test, y_test)\n",
        "\n",
        "print(\"val_loss: \", val_loss)\n",
        "print(\"val_accuracy: \", val_accuracy)"
      ],
      "execution_count": 20,
      "outputs": [
        {
          "output_type": "stream",
          "text": [
            "10000/10000 [==============================] - 0s 33us/step\n",
            "val_loss:  0.08775688839368523\n",
            "val_accuracy:  0.9758\n"
          ],
          "name": "stdout"
        }
      ]
    },
    {
      "metadata": {
        "id": "h1zqRBXXuMEN",
        "colab_type": "code",
        "colab": {
          "base_uri": "https://localhost:8080/",
          "height": 238
        },
        "outputId": "8b7c9ed3-39ce-4342-a5ac-252e438f9f94"
      },
      "cell_type": "code",
      "source": [
        "pred = model.predict([x_test])\n",
        "pred"
      ],
      "execution_count": 34,
      "outputs": [
        {
          "output_type": "execute_result",
          "data": {
            "text/plain": [
              "array([[5.53407060e-12, 4.48656046e-09, 2.69270650e-08, ...,\n",
              "        9.99999881e-01, 1.71438683e-10, 4.32051372e-09],\n",
              "       [3.70449439e-13, 5.13047416e-05, 9.99948621e-01, ...,\n",
              "        6.39494402e-10, 1.12856435e-09, 1.99570301e-15],\n",
              "       [7.93106825e-09, 9.99976277e-01, 3.52069492e-06, ...,\n",
              "        1.27575886e-05, 5.63209323e-06, 1.74269399e-08],\n",
              "       ...,\n",
              "       [1.00940055e-10, 1.61435651e-06, 5.53363888e-09, ...,\n",
              "        1.54106442e-06, 2.17833389e-07, 9.58906732e-09],\n",
              "       [9.59823936e-08, 4.68295713e-09, 1.55411195e-09, ...,\n",
              "        1.39838203e-08, 1.72046770e-04, 6.80231294e-09],\n",
              "       [1.27939241e-08, 1.86674853e-09, 6.05341199e-09, ...,\n",
              "        2.65598689e-11, 6.51372822e-09, 2.33996128e-10]], dtype=float32)"
            ]
          },
          "metadata": {
            "tags": []
          },
          "execution_count": 34
        }
      ]
    },
    {
      "metadata": {
        "id": "dJONShx3uMK0",
        "colab_type": "code",
        "colab": {
          "base_uri": "https://localhost:8080/",
          "height": 34
        },
        "outputId": "5c2165c6-0b55-4c5d-a01b-8a3e4233708a"
      },
      "cell_type": "code",
      "source": [
        "import numpy as np\n",
        "\n",
        "print(np.argmax(pred[20]))"
      ],
      "execution_count": 39,
      "outputs": [
        {
          "output_type": "stream",
          "text": [
            "9\n"
          ],
          "name": "stdout"
        }
      ]
    },
    {
      "metadata": {
        "id": "GX9FhqiquMOs",
        "colab_type": "code",
        "colab": {
          "base_uri": "https://localhost:8080/",
          "height": 347
        },
        "outputId": "d879657b-1fef-4689-bb4d-74ab38709ed4"
      },
      "cell_type": "code",
      "source": [
        "plt.imshow(x_test[20])\n",
        "plt.show()"
      ],
      "execution_count": 40,
      "outputs": [
        {
          "output_type": "display_data",
          "data": {
            "image/png": "[encoded data removed]",
            "text/plain": [
              "<matplotlib.figure.Figure at 0x7fd57663b898>"
            ]
          },
          "metadata": {
            "tags": []
          }
        }
      ]
    },
    {
      "metadata": {
        "id": "TMnUtjJiuL_b",
        "colab_type": "code",
        "colab": {}
      },
      "cell_type": "code",
      "source": [
        "#from tensorflow.python.keras.models import save_model\n",
        "\n",
        "#model.save('Deploy_model.model')\n",
        "\n",
        "#new_model = tf.keras.models.load_model('Deploy_model.model')\n"
      ],
      "execution_count": 0,
      "outputs": []
    },
    {
      "metadata": {
        "id": "5Ja8Rl2buMIL",
        "colab_type": "code",
        "colab": {}
      },
      "cell_type": "code",
      "source": [
        ""
      ],
      "execution_count": 0,
      "outputs": []
    }
  ]
}